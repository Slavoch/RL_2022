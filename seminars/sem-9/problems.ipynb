{
  "nbformat": 4,
  "nbformat_minor": 0,
  "metadata": {
    "colab": {
      "provenance": [],
      "collapsed_sections": [
        "HznLvJ9ZTI2C",
        "C1MXcaxbJhf-"
      ]
    },
    "kernelspec": {
      "name": "python3",
      "display_name": "Python 3"
    },
    "language_info": {
      "name": "python"
    }
  },
  "cells": [
    {
      "cell_type": "markdown",
      "source": [
        "# Prerequisites"
      ],
      "metadata": {
        "id": "HznLvJ9ZTI2C"
      }
    },
    {
      "cell_type": "code",
      "source": [
        "!pip install casadi"
      ],
      "metadata": {
        "colab": {
          "base_uri": "https://localhost:8080/"
        },
        "id": "gNaYzrgxsXNc",
        "outputId": "8611c1cf-2f24-49cd-cfcd-2c9d2405ea12"
      },
      "execution_count": null,
      "outputs": [
        {
          "output_type": "stream",
          "name": "stdout",
          "text": [
            "Looking in indexes: https://pypi.org/simple, https://us-python.pkg.dev/colab-wheels/public/simple/\n",
            "Requirement already satisfied: casadi in /usr/local/lib/python3.7/dist-packages (3.5.5)\n"
          ]
        }
      ]
    },
    {
      "cell_type": "code",
      "execution_count": null,
      "metadata": {
        "id": "OK-IbQhFS-m0"
      },
      "outputs": [],
      "source": [
        "# Definitions\n",
        "import numpy as np\n",
        "import matplotlib.pyplot as plt\n",
        "from matplotlib import rc\n",
        "rc('animation', html='jshtml')\n",
        "\n",
        "from matplotlib.animation import FuncAnimation\n",
        "\n",
        "def animate_satellite(trajectory, resolution_Hz=15, duration=None, fig_size=8):\n",
        "    plt.ioff()\n",
        "    trajectory = np.array(trajectory)\n",
        "    trajectory = trajectory.T[0:2].T\n",
        "    if len(trajectory.shape) == 1:\n",
        "        trajectory = trajectory.reshape(trajectory.size, 1)\n",
        "    if trajectory.shape == (trajectory.size, 1):\n",
        "        trajectory = np.stack((trajectory.T[0], np.zeros(trajectory.size))).T\n",
        "    if duration == None:\n",
        "        frames = range(trajectory.shape[0])\n",
        "    else:\n",
        "        frames = range(int(duration * resolution_Hz))\n",
        "    fig, ax = plt.subplots(figsize=(fig_size, fig_size))\n",
        "    # set the axes limits\n",
        "    ax.axis([-2,2,-2, 2])\n",
        "    ax.set_aspect(\"equal\")\n",
        "    # create a point in the axes\n",
        "    plt.grid()\n",
        "    ax.plot(0, 0, markersize=215, marker=\"o\")\n",
        "    t = np.linspace(0, 2 * np.pi, 1000)\n",
        "    ax.plot(1.5 * np.cos(t), 1.5 * np.sin(t), \"k--\")\n",
        "    plt.text(0, 0, 'Earth', horizontalalignment='center', verticalalignment='center', color='white')\n",
        "    plt.text(0, -1.7, 'Orbit', horizontalalignment='center', verticalalignment='center', color='black')\n",
        "    point, = ax.plot(0,1, marker=\"o\")\n",
        "\n",
        "    # Updating function, to be repeatedly called by the animation\n",
        "    def update(t):\n",
        "        # obtain point coordinates \n",
        "        x,y = trajectory[int(t) % trajectory.shape[0]]\n",
        "        # set point's coordinates\n",
        "        point.set_data([x],[y])\n",
        "        return point,\n",
        "\n",
        "    \n",
        "    ani = FuncAnimation(fig, update, interval=1000/resolution_Hz, blit=True, repeat=True,\n",
        "                    frames=frames)\n",
        "    plt.ion()\n",
        "    return ani"
      ]
    },
    {
      "cell_type": "code",
      "source": [
        "from scipy.linalg import norm\n",
        "\n",
        "class ParametrizedDiscreteTimeSystem:\n",
        "    def __init__(self, \n",
        "                 state_transition_function,  # f(., .)\n",
        "                 initial_state,              # x_0\n",
        "                 running_reward,\n",
        "                 discount               \n",
        "                 ):\n",
        "      self.__state_transition_function = state_transition_function\n",
        "      self.__initial_state = initial_state\n",
        "      self.__running_reward = running_reward\n",
        "      self.__discount = discount\n",
        "\n",
        "    def run_with_feedback_controller(self, \n",
        "                                     feedback_controller,\n",
        "                                     steps=100):\n",
        "      trajectory = [self.__initial_state]\n",
        "      actions = []\n",
        "      time = 0\n",
        "      total_reward = 0\n",
        "      accumulated_discount = 1\n",
        "      for _ in range(steps):\n",
        "        current_state = trajectory[-1]\n",
        "        control_input = feedback_controller(current_state, time) if time < 10 else np.zeros(2)\n",
        "        actions.append(control_input)\n",
        "        try:\n",
        "            next_state = self.__state_transition_function(current_state, control_input)\n",
        "            total_reward += self.__running_reward(current_state, control_input) * accumulated_discount\n",
        "            accumulated_discount *= self.__discount\n",
        "        except OverflowError:\n",
        "            print(\"The trajectory blew up. Ending the episode prematurely.\")\n",
        "            return np.array(trajectory), np.array(actions), total_reward\n",
        "        trajectory.append(next_state)\n",
        "        time += 1\n",
        "      return np.array(trajectory), np.array(actions), total_reward"
      ],
      "metadata": {
        "id": "dEkPPnpc-ep5"
      },
      "execution_count": null,
      "outputs": []
    },
    {
      "cell_type": "code",
      "source": [
        "from scipy.integrate import quad, solve_ivp\n",
        "\n",
        "satellite_initial_state = np.array([0, 1.1, 0.05, 0.05])\n",
        "\n",
        "\n",
        "def satellite_dynamics_function(state_continuous, control_input): # HINT: You will need this function.\n",
        "    drift = np.zeros(4)\n",
        "    drift[0:2] = state_continuous[2:] if norm(state_continuous[0:2]) >= 1 else 0\n",
        "    drift[2:] = -0.03*state_continuous[0:2] / norm(state_continuous[0:2])**3 + control_input\n",
        "    return drift\n",
        "\n",
        "def satellite_transition_function(state, control_input): ## ERASE\n",
        "    def f(t, y):\n",
        "        return satellite_dynamics_function(y, control_input)\n",
        "    next_state = solve_ivp(f, (0, 1), state).y.T[-1]\n",
        "    return next_state    \n",
        "\n",
        "def satellite_running_reward(state, control_input): ## ERASE\n",
        "    def f(t, y):\n",
        "        drift = satellite_dynamics_function(y[:-1], control_input)\n",
        "        reward_growth = -(satellite_discount ** t) * ((norm(y[0:2]) - 1.5)**2 + norm(control_input) ** 2)\n",
        "        derivative = np.zeros(5)\n",
        "        derivative[:4] = drift\n",
        "        derivative[4] = reward_growth\n",
        "        return derivative\n",
        "    reward = solve_ivp(f, (0, 1), np.concatenate((state, np.zeros(1)))).y.T[-1][-1]\n",
        "    return reward\n",
        "satellite_discount = 0.99\n",
        "\n",
        "satellite_system = ParametrizedDiscreteTimeSystem(satellite_transition_function,\n",
        "                                                  satellite_initial_state,\n",
        "                                                  satellite_running_reward,\n",
        "                                                  satellite_discount)\n",
        "\n",
        "def test_and_plot(mpc_feedback):\n",
        "    trajectory, actions, total_reward = satellite_system.run_with_feedback_controller(mpc_feedback, steps=100)\n",
        "    print(\"Total reward: %f\" % total_reward)\n",
        "    print(\"First action:\", actions[0])\n",
        "    return animate_satellite(trajectory)\n",
        "    "
      ],
      "metadata": {
        "id": "f7YLcJBa69Q0"
      },
      "execution_count": null,
      "outputs": []
    },
    {
      "cell_type": "markdown",
      "source": [
        "# Sending a satellite into orbit with MPC\n",
        "\n",
        "The following system decribes the dynamics of an artificial satellite that is being lauched into space. The onboard controller determines the magnitude and direction of the propulsion produced by the rocket's engines. However the controller is only able to update it's action once a in a single unit of time.\n",
        "\n",
        "Notice, that by $t := 1$ the rocket runs out of fuel and can no longer influence it's own dynamics.\n",
        "$$\n",
        "\\begin{aligned}\n",
        "&\\begin{cases}\n",
        " \\frac{\\partial}{\\partial t}x(t) = \\begin{cases}v(t), \\text{ if } \\lVert x(t)\\rVert_2 \\geq 1 \\\\ \\left(0 \\atop 0\\right), \\text{ otherwise}\\end{cases}\\\\\n",
        " \\frac{\\partial}{\\partial t}v(t) = \\begin{cases}-0.03\\frac{x(t)}{\\lVert x(t)\\rVert_2^3} + u(t), \\ t < 10 \\\\ \n",
        " -0.03\\frac{x(t)}{\\lVert x(t)\\rVert_2^3}, \\ \\text{otherwise}\\end{cases}\\end{cases}, \\  \\\\\n",
        "& x_0 = \\left(0 \\atop 1 \\right) \\\\\n",
        "& v_0 = \\left(0 \\atop 0.1 \\right) \\\\\n",
        "& u(t) = \\rho\\big(x(t \\text{ mod } 1)\\big) \\in \\mathbb{U} := \\{u' \\in \\mathbb{R}^2 \\ | \\ \\lVert u' \\rVert_2 \\leq 0.03\\}, \\\\\n",
        "& r(x(t), u(t)) := -(\\lVert x(t) \\rVert_2 - 1.5)^2 - \\lVert u(t)\\rVert_2^2, \\ \\gamma = 0.99\n",
        "\\end{aligned}\n",
        "$$\n",
        "\n",
        "### Complementing and discretizing\n",
        "\n",
        "It is worth pointing out that the way this system is defined happens to be inconvenient to practical computations. Thus it is a good idea to complement it with additional dimensions $\\tau$ and $r$ that represent time and accumulated reward respectively. \n",
        "$$\n",
        "\\begin{aligned}\n",
        "&\\begin{cases}\n",
        " \\frac{\\partial}{\\partial t}x(t) = \\begin{cases}v(t), \\text{ if } \\lVert x(t)\\rVert_2 \\geq 1 \\\\ \\left(0 \\atop 0\\right), \\text{ otherwise}\\end{cases}\\\\\n",
        " \\frac{\\partial}{\\partial t}v(t) = \\begin{cases}-0.03\\frac{x(t)}{\\lVert x(t)\\rVert_2^3} + u(t), \\ \\tau < 10 \\\\ \n",
        " -0.03\\frac{x(t)}{\\lVert x(t)\\rVert_2^3}, \\ \\text{otherwise}\\end{cases}\\\\\n",
        " \\frac{\\partial}{\\partial t}\\tau(t) = 1\\\\\n",
        " \\frac{\\partial}{\\partial t}r(t) = -\\gamma^\\tau\\left((\\lVert x(t) \\rVert_2 - 1.5)^2 + \\lVert u(t)\\rVert_2^2\\right),\\\\\n",
        " \\end{cases}, \\  \\\\\n",
        "& x_0 = \\left(0 \\atop 1 \\right) \\\\\n",
        "& v_0 = \\left(0 \\atop 0.1 \\right) \\\\\n",
        "& \\tau_0 = 0\\\\\n",
        "& r_0 = 0\\\\\n",
        "& u(t) = \\rho\\big(x(t \\text{ mod } 1)\\big) \\in \\mathbb{U} := \\{u' \\in \\mathbb{R}^2 \\ | \\ \\lVert u' \\rVert_2 \\leq 0.03\\}, \\\\\n",
        "\\end{aligned}\n",
        "$$\n",
        "The above conversion allows not only to significantly simplify reward computations, but also turns the initial non-stationary system into a stationary one."
      ],
      "metadata": {
        "id": "4kRTYUFOZTFH"
      }
    },
    {
      "cell_type": "markdown",
      "source": [
        "However before we apply MPC, it is also necessary to appropriately discretize the above system as follows:\n",
        "\n",
        "$$\n",
        "\\begin{aligned}\n",
        "& \\left({x_{t + 1} \\atop v_{t + 1}} \\atop {\\tau_{t + 1} \\atop r_{t + 1}}\\right) = f(x_t, v_t, \\tau_t, r_t, u_t)\\\\\n",
        "& x_0 = \\left(0 \\atop 1 \\right) \\\\\n",
        "& v_0 = \\left(0 \\atop 0.1 \\right) \\\\\n",
        "& \\tau_0 = 0\\\\\n",
        "& r_0 = 0\\\\\n",
        "& u_t = \\rho(x_t) \\in \\mathbb{U} := \\{u' \\in \\mathbb{R}^2 \\ | \\ \\lVert u' \\rVert_2 \\leq 0.03\\}, \\\\\n",
        "\\end{aligned}\n",
        "$$\n",
        "\n",
        "Here $f(\\cdot, \\cdot, \\cdot, \\cdot, \\cdot) := x(t), v(t), \\tau(t), r(t), u_t \\longmapsto  x(t + 1), v(t + 1), \\tau(t + 1), r(t + 1)$."
      ],
      "metadata": {
        "id": "_eBrg_z4csDW"
      }
    },
    {
      "cell_type": "markdown",
      "source": [
        "### MPC recap\n",
        "\n",
        "Model Predictive Control is an approach to solving the above problem online by directly optimizing trajectories over a finite time horizon $N$. I.e.\n",
        "$$\n",
        "\\DeclareMathOperator*{\\argmax}{arg\\,max}\n",
        "\\rho(x_t) = \\argmax_{u_t \\in \\mathbb{U}} \\left(  \\max_{\\{u_{t + i}\\}_{i=1}^{N - 1} \\in \\mathbb{U}^{N - 1}}\\sum_{k = 0}^{N - 1} r(x_{t + k}, u_{t + k})\\right)\n",
        "$$"
      ],
      "metadata": {
        "id": "HC2llE0q1uMP"
      }
    },
    {
      "cell_type": "markdown",
      "source": [
        "### Introduction to CasADI\n",
        "\n",
        "CasADI is a framework for high performance dynamic optimization. Much like pytorch, CasADI allows one to construct a graph of computations and then perform the releveant optimization. The core distinction is that CasADI is driven by symbolic expressions. For instance one can declare a symbolic variable ``x = cs.MX.sym('x')`` and then computing ``x ** 2`` will yield a symbolic expression that corresponds to the formula $x^2$.\n",
        "\n",
        "Perhaps the easiest way to introduce oneself to CasADI would be to view their [concise tutorial](https://web.casadi.org/) that demonstrates how CasADI can handle dynamics and optimization.\n",
        "Below is the final example from the latter tutorial. You might want to examine it and experiment with it before you proceed."
      ],
      "metadata": {
        "id": "596ALCjF48NW"
      }
    },
    {
      "cell_type": "code",
      "source": [
        "import casadi as cs\n",
        "import matplotlib.pyplot as plt\n",
        "\n",
        "x = cs.MX.sym('x',2) # Two states\n",
        "p = cs.MX.sym('p')   # Free parameter\n",
        "\n",
        "# Expression for ODE right-hand side\n",
        "z = 1-x[1]**2\n",
        "rhs = cs.vertcat(z*x[0]-x[1]+2*cs.tanh(p),x[0])\n",
        "\n",
        "# ODE declaration with free parameter\n",
        "ode = {'x':x,'p':p,'ode':rhs}\n",
        "\n",
        "# Construct a Function that integrates over 1s\n",
        "F = cs.integrator('F','cvodes',ode,{'tf':1})\n",
        "\n",
        "# Control vector\n",
        "u = cs.MX.sym('u',4,1)\n",
        "\n",
        "x = [0,1]  # Initial state\n",
        "for k in range(4):\n",
        "  # Integrate 1s forward in time:\n",
        "  # call integrator symbolically\n",
        "  res = F(x0=x,p=u[k])\n",
        "  x = res[\"xf\"]\n",
        "\n",
        "\n",
        "# NLP declaration\n",
        "nlp = {'x':u,'f':cs.dot(u,u),'g':x}\n",
        "\n",
        "# Solve using IPOPT\n",
        "solver = cs.nlpsol('solver','ipopt',nlp)\n",
        "res = solver(x0=0.2,lbg=0,ubg=0)\n",
        "\n",
        "print(res[\"x\"])\n",
        "plt.plot(res[\"x\"])"
      ],
      "metadata": {
        "id": "tYBh1k-Djj79"
      },
      "execution_count": null,
      "outputs": []
    },
    {
      "cell_type": "markdown",
      "source": [
        "### Designing an MPC agent\n",
        "\n",
        "Complete and tune the code below to construct an MPC routine that launches the satellite into orbit.\n",
        "\n",
        "**Hint:** take a look at ``casadi.if_else`` and ``casadi.dot``"
      ],
      "metadata": {
        "id": "HKac-i478WdJ"
      }
    },
    {
      "cell_type": "code",
      "source": [
        "import casadi as cs\n",
        "\n",
        "x = cs.MX.sym('x', 2) # speeds\n",
        "v = cs.MX.sym('v', 2) # positions\n",
        "t = cs.MX.sym('t', 1) # time\n",
        "r = cs.MX.sym('r', 1) #reward\n",
        "\n",
        "p = cs.MX.sym('p', 2) # action parameter\n",
        "\n",
        "\n",
        "gamma = 0.99\n",
        "\n",
        "# Expression for ODE right-hand side\n",
        "system_rhs = cs.vertcat(## Your code,\n",
        "                        ## Your code)\n",
        "t_rhs = 1\n",
        "reward_rhs =  -((cs.dot(x, x) ** 0.5 - 1.5)**2 + cs.dot(p, p)) * gamma ** t \n",
        "\n",
        "# ODE declaration with free parameter\n",
        "ode = {'x': cs.vertcat(x, \n",
        "                       v,\n",
        "                       t,\n",
        "                       r), \n",
        "       'p':p, \n",
        "       'ode': cs.vertcat(system_rhs, \n",
        "                         t_rhs,\n",
        "                         reward_rhs)}\n",
        "\n",
        "# Construct a Function that integrates over 1s\n",
        "F = cs.integrator('F','rk',ode,{'tf':1})\n",
        "\n",
        "\n",
        "def complemented_state_transition(state_time_reward, action):\n",
        "    state_time_reward = F(x0=state_time_reward,p=action)[\"xf\"]\n",
        "    return state_time_reward\n",
        "\n",
        "\n",
        "class ModelPredictiveFeedback:\n",
        "    def __init__(self, horizon, max_iter):\n",
        "        self.horizon = horizon\n",
        "        self.max_iter = max_iter\n",
        "        self.last = 0.0 # On each successive iterations you want to resume from your previous configuration\n",
        "    \n",
        "    def __call__(self, state, time):\n",
        "        u = cs.MX.sym('u', self.horizon * 2)\n",
        "        x = cs.vertcat(state, time, 0)\n",
        "        for k in range(self.horizon):\n",
        "            x = ## Your code\n",
        "        r = ## Your code\n",
        "        nlp = {'x': u,\n",
        "               'f':-r,\n",
        "               'g': ## Your code\n",
        "               }\n",
        "        solver = cs.nlpsol('solver', 'ipopt', nlp, {\"ipopt\" : {\"max_iter\" : self.max_iter}})\n",
        "        res = ## Your code\n",
        "        self.last = cs.vertcat(res['x'][2:], 0, 0)\n",
        "        return ## Your code\n",
        "\n",
        "\n",
        "horizon = ## Your code\n",
        "iterations = ## Your code\n",
        "feedback = ModelPredictiveFeedback(horizon, iterations)\n"
      ],
      "metadata": {
        "id": "lchVtf548MXB"
      },
      "execution_count": null,
      "outputs": []
    },
    {
      "cell_type": "markdown",
      "source": [
        "### Observe the results"
      ],
      "metadata": {
        "id": "C1MXcaxbJhf-"
      }
    },
    {
      "cell_type": "code",
      "source": [
        "test_and_plot(feedback)"
      ],
      "metadata": {
        "id": "iOYkL-tCJhKs"
      },
      "execution_count": null,
      "outputs": []
    }
  ]
}